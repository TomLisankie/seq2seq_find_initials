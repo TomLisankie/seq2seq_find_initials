{
 "cells": [
  {
   "cell_type": "markdown",
   "metadata": {},
   "source": [
    "Imports and global variable setups"
   ]
  },
  {
   "cell_type": "code",
   "execution_count": 11,
   "metadata": {},
   "outputs": [],
   "source": [
    "from keras.models import Model\n",
    "from keras.layers import Input, LSTM, Dense\n",
    "import numpy as np\n",
    "\n",
    "batch_size = 1000\n",
    "epochs = 20\n",
    "latent_dim = 256 # what is this?\n",
    "num_samples = 300000\n",
    "data_path = \"data/names_initials_all_caps.csv\""
   ]
  },
  {
   "cell_type": "markdown",
   "metadata": {},
   "source": [
    "Read in and vectorize the data"
   ]
  },
  {
   "cell_type": "code",
   "execution_count": 12,
   "metadata": {},
   "outputs": [
    {
     "name": "stdout",
     "output_type": "stream",
     "text": [
      "Number of samples: 300000\n",
      "Number of unique input tokens: 27\n",
      "Number of unique output tokens 28\n",
      "Max sequence length for inputs: 23\n",
      "Max sequence length for outputs: 4\n",
      "(300000, 23, 27)\n",
      "(300000, 4, 28)\n",
      "(300000, 4, 28)\n"
     ]
    }
   ],
   "source": [
    "input_texts = []\n",
    "target_texts = []\n",
    "input_characters = set()\n",
    "target_characters = set()\n",
    "with open(data_path, \"r\", encoding=\"utf-8\") as f:\n",
    "    lines = f.read().split(\"\\n\")\n",
    "for line in lines[ : min(num_samples, len(lines) - 1)]:\n",
    "    input_text, target_text = line.split(\",\")\n",
    "    #Now, use \"\\t\" as the start sequence character and \"\\n\" as the end sequence character\n",
    "    target_text = \"\\t\" + target_text + \"\\n\"\n",
    "    input_texts.append(input_text)\n",
    "    target_texts.append(target_text)\n",
    "    for char in input_text:\n",
    "        if char not in input_characters:\n",
    "            input_characters.add(char)\n",
    "    for char in target_text:\n",
    "        if char not in target_characters:\n",
    "            target_characters.add(char)\n",
    "\n",
    "input_characters = sorted(list(input_characters))\n",
    "target_characters = sorted(list(target_characters))\n",
    "num_encoder_tokens = len(input_characters)\n",
    "num_decoder_tokens = len(target_characters)\n",
    "max_encoder_seq_length = max([len(seq) for seq in input_texts])\n",
    "max_decoder_seq_length = max([len(seq) for seq in target_texts])\n",
    "\n",
    "print(\"Number of samples:\", len(input_texts))\n",
    "print(\"Number of unique input tokens:\", num_encoder_tokens)\n",
    "print(\"Number of unique output tokens\", num_decoder_tokens)\n",
    "print(\"Max sequence length for inputs:\", max_encoder_seq_length)\n",
    "print(\"Max sequence length for outputs:\", max_decoder_seq_length)\n",
    "\n",
    "input_token_index = dict([(char, i) for i, char in enumerate(input_characters)])\n",
    "target_token_index = dict([(char, i) for i, char in enumerate(target_characters)])\n",
    "\n",
    "encoder_input_data = np.zeros((len(input_texts), max_encoder_seq_length, num_encoder_tokens),\n",
    "                              dtype=\"float32\")\n",
    "decoder_input_data = np.zeros((len(target_texts), max_decoder_seq_length, num_decoder_tokens),\n",
    "                              dtype=\"float32\")\n",
    "decoder_target_data = np.zeros((len(target_texts), max_decoder_seq_length, num_decoder_tokens),\n",
    "                              dtype=\"float32\")\n",
    "\n",
    "for i, (input_text, target_text) in enumerate(zip(input_texts, target_texts)):\n",
    "    for t, char in enumerate(input_text):\n",
    "        encoder_input_data[i, t, input_token_index[char]] = 1\n",
    "    for t, char in enumerate(target_text):\n",
    "        # decoder_target_data is ahead of decoder_input_data by one time step\n",
    "        decoder_input_data[i, t, target_token_index[char]] = 1\n",
    "        if t > 0:\n",
    "            #decoder_target_data is ahead by one time step and doesn't include the start char\n",
    "            decoder_target_data[i, t-1, target_token_index[char]] = 1\n",
    "\n",
    "print(encoder_input_data.shape)\n",
    "print(decoder_input_data.shape)\n",
    "print(decoder_target_data.shape)\n"
   ]
  },
  {
   "cell_type": "markdown",
   "metadata": {},
   "source": [
    "Define an input sequence and process it"
   ]
  },
  {
   "cell_type": "code",
   "execution_count": 13,
   "metadata": {},
   "outputs": [],
   "source": [
    "encoder_inputs = Input(shape=(None, num_encoder_tokens))\n",
    "encoder = LSTM(latent_dim, return_state=True)\n",
    "encoder_outputs, state_h, state_c = encoder(encoder_inputs)\n",
    "# Discard encoder_outputs and only keep the states\n",
    "encoder_states = [state_h, state_c]\n",
    "\n",
    "# Set up the decoder and feed the encoder_states as its initial states\n",
    "decoder_inputs = Input(shape=(None, num_decoder_tokens))\n",
    "# We set up our decoder to return full output sequences, and to return internal states as well.\n",
    "# We don't use the return states in the training model, but we will use them in inference.\n",
    "decoder_lstm = LSTM(latent_dim, return_sequences=True, return_state=True)\n",
    "decoder_outputs, _, _ = decoder_lstm(decoder_inputs,\n",
    "                                     initial_state=encoder_states)\n",
    "decoder_dense = Dense(num_decoder_tokens, activation=\"softmax\")\n",
    "decoder_outputs = decoder_dense(decoder_outputs)"
   ]
  },
  {
   "cell_type": "markdown",
   "metadata": {},
   "source": [
    "Define the model that will turn `encoder_input_data` and `decoder_input_data` into `decoder_target_data`"
   ]
  },
  {
   "cell_type": "code",
   "execution_count": 14,
   "metadata": {},
   "outputs": [],
   "source": [
    "model = Model([encoder_inputs, decoder_inputs], decoder_outputs)"
   ]
  },
  {
   "cell_type": "markdown",
   "metadata": {},
   "source": [
    "Train and save the model"
   ]
  },
  {
   "cell_type": "code",
   "execution_count": 15,
   "metadata": {},
   "outputs": [
    {
     "name": "stdout",
     "output_type": "stream",
     "text": [
      "Train on 240000 samples, validate on 60000 samples\n",
      "Epoch 1/20\n",
      "240000/240000 [==============================] - 375s 2ms/step - loss: 1.4153 - acc: 0.3166 - val_loss: 1.1611 - val_acc: 0.3861\n",
      "Epoch 2/20\n",
      "240000/240000 [==============================] - 445s 2ms/step - loss: 0.9439 - acc: 0.4524 - val_loss: 0.7713 - val_acc: 0.5133\n",
      "Epoch 3/20\n",
      "240000/240000 [==============================] - 596s 2ms/step - loss: 0.7678 - acc: 0.5124 - val_loss: 1.0333 - val_acc: 0.4362\n",
      "Epoch 4/20\n",
      "240000/240000 [==============================] - 434s 2ms/step - loss: 0.7412 - acc: 0.5221 - val_loss: 0.7218 - val_acc: 0.5270\n",
      "Epoch 5/20\n",
      "240000/240000 [==============================] - 297s 1ms/step - loss: 0.7127 - acc: 0.5365 - val_loss: 0.6782 - val_acc: 0.5496\n",
      "Epoch 6/20\n",
      "240000/240000 [==============================] - 296s 1ms/step - loss: 0.6166 - acc: 0.5787 - val_loss: 0.5261 - val_acc: 0.6052\n",
      "Epoch 7/20\n",
      "240000/240000 [==============================] - 275s 1ms/step - loss: 0.4074 - acc: 0.6455 - val_loss: 0.2750 - val_acc: 0.6800\n",
      "Epoch 8/20\n",
      "240000/240000 [==============================] - 263s 1ms/step - loss: 0.1845 - acc: 0.7055 - val_loss: 0.1124 - val_acc: 0.7176\n",
      "Epoch 9/20\n",
      "240000/240000 [==============================] - 269s 1ms/step - loss: 0.0760 - acc: 0.7322 - val_loss: 0.2533 - val_acc: 0.6822\n",
      "Epoch 10/20\n",
      "240000/240000 [==============================] - 273s 1ms/step - loss: 0.0450 - acc: 0.7389 - val_loss: 0.0276 - val_acc: 0.7426\n",
      "Epoch 11/20\n",
      "240000/240000 [==============================] - 269s 1ms/step - loss: 0.0333 - acc: 0.7415 - val_loss: 0.0218 - val_acc: 0.7436\n",
      "Epoch 12/20\n",
      "240000/240000 [==============================] - 278s 1ms/step - loss: 0.0224 - acc: 0.7440 - val_loss: 0.0265 - val_acc: 0.7432\n",
      "Epoch 13/20\n",
      "240000/240000 [==============================] - 267s 1ms/step - loss: 0.0167 - acc: 0.7457 - val_loss: 0.0113 - val_acc: 0.7468\n",
      "Epoch 14/20\n",
      "240000/240000 [==============================] - 267s 1ms/step - loss: 0.0137 - acc: 0.7467 - val_loss: 0.0055 - val_acc: 0.7487\n",
      "Epoch 15/20\n",
      "240000/240000 [==============================] - 261s 1ms/step - loss: 0.0079 - acc: 0.7480 - val_loss: 0.0043 - val_acc: 0.7487\n",
      "Epoch 16/20\n",
      "240000/240000 [==============================] - 263s 1ms/step - loss: 0.0072 - acc: 0.7483 - val_loss: 0.0036 - val_acc: 0.7489\n",
      "Epoch 17/20\n",
      "240000/240000 [==============================] - 267s 1ms/step - loss: 0.0060 - acc: 0.7486 - val_loss: 9.9658e-04 - val_acc: 0.7498\n",
      "Epoch 18/20\n",
      "240000/240000 [==============================] - 266s 1ms/step - loss: 0.0033 - acc: 0.7492 - val_loss: 0.0021 - val_acc: 0.7493\n",
      "Epoch 19/20\n",
      "240000/240000 [==============================] - 264s 1ms/step - loss: 0.0037 - acc: 0.7492 - val_loss: 0.0013 - val_acc: 0.7496\n",
      "Epoch 20/20\n",
      "240000/240000 [==============================] - 264s 1ms/step - loss: 0.0048 - acc: 0.7491 - val_loss: 1.7833e-04 - val_acc: 0.7500\n"
     ]
    },
    {
     "name": "stderr",
     "output_type": "stream",
     "text": [
      "/usr/local/lib/python3.6/site-packages/keras/engine/topology.py:2379: UserWarning: Layer lstm_6 was passed non-serializable keyword arguments: {'initial_state': [<tf.Tensor 'lstm_5/while/Exit_2:0' shape=(?, 256) dtype=float32>, <tf.Tensor 'lstm_5/while/Exit_3:0' shape=(?, 256) dtype=float32>]}. They will not be included in the serialized model (and thus will be missing at deserialization time).\n",
      "  str(node.arguments) + '. They will not be included '\n"
     ]
    }
   ],
   "source": [
    "model.compile(optimizer=\"rmsprop\", loss=\"categorical_crossentropy\", metrics=[\"acc\"])\n",
    "model.fit([encoder_input_data, decoder_input_data], decoder_target_data, batch_size=batch_size,\n",
    "          epochs=epochs, validation_split=0.2)\n",
    "model.save(\"seq2seq-300000-all-caps.h5\") # save model"
   ]
  },
  {
   "cell_type": "code",
   "execution_count": null,
   "metadata": {},
   "outputs": [],
   "source": []
  }
 ],
 "metadata": {
  "kernelspec": {
   "display_name": "Python 3",
   "language": "python",
   "name": "python3"
  },
  "language_info": {
   "codemirror_mode": {
    "name": "ipython",
    "version": 3
   },
   "file_extension": ".py",
   "mimetype": "text/x-python",
   "name": "python",
   "nbconvert_exporter": "python",
   "pygments_lexer": "ipython3",
   "version": "3.6.5"
  }
 },
 "nbformat": 4,
 "nbformat_minor": 2
}
